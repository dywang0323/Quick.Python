{
 "cells": [
  {
   "cell_type": "code",
   "execution_count": null,
   "id": "4506e857-533b-4696-9482-6a148f1b0d33",
   "metadata": {},
   "outputs": [],
   "source": [
    "# class average program with sequence-controled repetition"
   ]
  },
  {
   "cell_type": "code",
   "execution_count": 3,
   "id": "9e183586-9685-4cd1-9b26-d3d7831bbf42",
   "metadata": {},
   "outputs": [
    {
     "name": "stdout",
     "output_type": "stream",
     "text": [
      "Class average is 81.7\n"
     ]
    }
   ],
   "source": [
    "total = 0\n",
    "grade_counter = 0\n",
    "grades = [98, 76, 71, 87, 83, 90, 57, 79, 82, 94]\n",
    "\n",
    "for grade in grades:\n",
    "    total += grade\n",
    "    grade_counter += 1\n",
    "\n",
    "average = total/grade_counter\n",
    "print(f'Class average is {average}')"
   ]
  },
  {
   "cell_type": "code",
   "execution_count": null,
   "id": "698efebf-9415-4ef7-a0cc-b98d03247400",
   "metadata": {},
   "outputs": [],
   "source": [
    "# class average program with sentimel-controlled interation"
   ]
  },
  {
   "cell_type": "code",
   "execution_count": 5,
   "id": "e9a360e8-1859-4e66-b0c1-7fd2fa5838dd",
   "metadata": {},
   "outputs": [
    {
     "name": "stdin",
     "output_type": "stream",
     "text": [
      "enter grade, -1 to the end:  20\n",
      "enter grade, -1 to the end:  20\n",
      "enter grade, -1 to the end:  40\n",
      "enter grade, -1 to the end:  -1\n"
     ]
    },
    {
     "name": "stdout",
     "output_type": "stream",
     "text": [
      "Class average is  26.67\n"
     ]
    }
   ],
   "source": [
    "total = 0\n",
    "grade_counter = 0\n",
    "\n",
    "grade = int(input('enter grade, -1 to the end: '))\n",
    "\n",
    "while grade != -1:\n",
    "    total += grade\n",
    "    grade_counter += 1\n",
    "    grade = int(input('enter grade, -1 to the end: '))\n",
    "    \n",
    "if grade_counter !=0:\n",
    "    average = total/grade_counter\n",
    "    print(f'Class average is {average: .2f}')\n",
    "else:\n",
    "    print('No grades were entered')"
   ]
  },
  {
   "cell_type": "code",
   "execution_count": null,
   "id": "f1070467-5b79-4f04-b489-572de9ce6848",
   "metadata": {},
   "outputs": [],
   "source": [
    "# using nested control statements to analyze examnation results"
   ]
  },
  {
   "cell_type": "code",
   "execution_count": null,
   "id": "15a96d07-dac4-45a2-b142-504b0e7a7b4f",
   "metadata": {},
   "outputs": [],
   "source": [
    "passes = 0 \n",
    "failures = 0\n",
    "\n",
    "for students in range(10): result = int(input('Enter results (1 = pass, 2 = fail)'))\n",
    "\n",
    "if result == 1:\n",
    "    passes += 1\n",
    "else:\n",
    "    failures +=1\n",
    "    \n",
    "print('passed:', passes)\n",
    "print('failed:', failures)\n",
    "\n",
    "if passes > 8: print('Bunus to instructor')"
   ]
  }
 ],
 "metadata": {
  "kernelspec": {
   "display_name": "Python 3 (ipykernel)",
   "language": "python",
   "name": "python3"
  },
  "language_info": {
   "codemirror_mode": {
    "name": "ipython",
    "version": 3
   },
   "file_extension": ".py",
   "mimetype": "text/x-python",
   "name": "python",
   "nbconvert_exporter": "python",
   "pygments_lexer": "ipython3",
   "version": "3.9.7"
  }
 },
 "nbformat": 4,
 "nbformat_minor": 5
}
