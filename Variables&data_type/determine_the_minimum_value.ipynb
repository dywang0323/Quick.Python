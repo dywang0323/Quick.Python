{
 "cells": [
  {
   "cell_type": "code",
   "execution_count": null,
   "id": "0ba6486e-6ddc-4baf-9212-908ab71f062a",
   "metadata": {},
   "outputs": [],
   "source": [
    "# determine the minnimum of three value"
   ]
  },
  {
   "cell_type": "code",
   "execution_count": 1,
   "id": "940cbd9a-7521-4fdb-8dae-4ea9fe646328",
   "metadata": {},
   "outputs": [
    {
     "name": "stdin",
     "output_type": "stream",
     "text": [
      "enter first integer: 12\n",
      "enter seconde integer: 13\n",
      "enter third integer: 25\n"
     ]
    },
    {
     "name": "stdout",
     "output_type": "stream",
     "text": [
      "the minimum value is:  25\n"
     ]
    }
   ],
   "source": [
    "number1 = int(input('enter first integer:'))\n",
    "number2 = int(input('enter seconde integer:'))\n",
    "number3 = int(input('enter third integer:'))\n",
    "minimum = number1\n",
    "if minimum < number2:\n",
    "    minimum = number2\n",
    "if minimum < number3:\n",
    "    minimum = number3\n",
    "print('the minimum value is: ', minimum)"
   ]
  },
  {
   "cell_type": "code",
   "execution_count": null,
   "id": "0f2f21d7-a3b4-4d7d-85c1-5212c472a67b",
   "metadata": {},
   "outputs": [],
   "source": []
  }
 ],
 "metadata": {
  "kernelspec": {
   "display_name": "Python 3 (ipykernel)",
   "language": "python",
   "name": "python3"
  },
  "language_info": {
   "codemirror_mode": {
    "name": "ipython",
    "version": 3
   },
   "file_extension": ".py",
   "mimetype": "text/x-python",
   "name": "python",
   "nbconvert_exporter": "python",
   "pygments_lexer": "ipython3",
   "version": "3.9.7"
  }
 },
 "nbformat": 4,
 "nbformat_minor": 5
}
