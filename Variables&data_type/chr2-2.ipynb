{
 "cells": [
  {
   "cell_type": "code",
   "execution_count": null,
   "id": "0ba6486e-6ddc-4baf-9212-908ab71f062a",
   "metadata": {},
   "outputs": [],
   "source": [
    "# determine the minnimum of three value"
   ]
  },
  {
   "cell_type": "code",
   "execution_count": 1,
   "id": "940cbd9a-7521-4fdb-8dae-4ea9fe646328",
   "metadata": {},
   "outputs": [
    {
     "name": "stdin",
     "output_type": "stream",
     "text": [
      "enter first integer: 12\n",
      "enter seconde integer: 13\n",
      "enter third integer: 25\n"
     ]
    },
    {
     "name": "stdout",
     "output_type": "stream",
     "text": [
      "the minimum value is:  25\n"
     ]
    }
   ],
   "source": [
    "number1 = int(input('enter first integer:'))\n",
    "number2 = int(input('enter seconde integer:'))\n",
    "number3 = int(input('enter third integer:'))\n",
    "minimum = number1\n",
    "if minimum < number2:\n",
    "    minimum = number2\n",
    "if minimum < number3:\n",
    "    minimum = number3\n",
    "print('the minimum value is: ', minimum)"
   ]
  },
  {
   "cell_type": "code",
   "execution_count": null,
   "id": "97fcdd43-d6f1-482c-b562-2c074a06e132",
   "metadata": {},
   "outputs": [],
   "source": [
    "# write a script that calculates the squarea and cubes of the number from 0 to 5"
   ]
  },
  {
   "cell_type": "code",
   "execution_count": 2,
   "id": "7eb27609-92d5-41f8-8729-8f1829c72995",
   "metadata": {},
   "outputs": [
    {
     "name": "stdout",
     "output_type": "stream",
     "text": [
      "number square cube\n",
      "0 0 0\n",
      "1 1 1\n",
      "2 4 4\n",
      "3 9 9\n"
     ]
    }
   ],
   "source": [
    "number1 = 0\n",
    "number2 = 1\n",
    "number3 = 2\n",
    "number4 = 3\n",
    "\n",
    "square1 = number1**2\n",
    "cube1 = number1**3\n",
    "square2 = number2**2\n",
    "cube2 = number2**2\n",
    "square3 = number3**2\n",
    "cube3 = number3**2\n",
    "square4 = number4**2\n",
    "cube4 = number4**2\n",
    "\n",
    "print('number square cube')\n",
    "print(number1, square1, cube1)\n",
    "print(number2, square2, cube2)\n",
    "print(number3, square3, cube3)\n",
    "print(number4, square4, cube4)\n"
   ]
  },
  {
   "cell_type": "code",
   "execution_count": null,
   "id": "76ba17ff-22b3-41d7-a33f-d7767a46c3db",
   "metadata": {},
   "outputs": [],
   "source": [
    "# write a script that inputs three integers from the user, display the sum, average, product, smallest and largest of the number"
   ]
  },
  {
   "cell_type": "code",
   "execution_count": 6,
   "id": "993f0a73-5eb8-4512-ae3b-6fb8d6c5f01e",
   "metadata": {},
   "outputs": [
    {
     "name": "stdin",
     "output_type": "stream",
     "text": [
      "please enter a number: 1\n",
      "pleases enter a number:  2\n",
      "please enter a number:  3\n"
     ]
    },
    {
     "name": "stdout",
     "output_type": "stream",
     "text": [
      "6 2.0 6 1 3\n"
     ]
    }
   ],
   "source": [
    "number1 = int(input('please enter a number:'))\n",
    "number2 = int(input('pleases enter a number: '))\n",
    "number3 = int(input('please enter a number: '))\n",
    "\n",
    "Sum = number1 + number2 + number3\n",
    "Average = Sum/3\n",
    "product = number1 * number2 * number3\n",
    "smallest = min(number1, number2, number3)\n",
    "largest = max(number1, number2, number3)\n",
    "\n",
    "print(Sum, Average, product, smallest, largest)"
   ]
  },
  {
   "cell_type": "code",
   "execution_count": 7,
   "id": "c2344e77-b0ca-4bcd-a0ba-3763f04503ef",
   "metadata": {},
   "outputs": [],
   "source": [
    "# write a script that input a five-digit integer from the user, seperate the number into its individual digits, print them seperatey by three space each"
   ]
  },
  {
   "cell_type": "code",
   "execution_count": 37,
   "id": "b7bf4d09-972c-42c2-8da8-f45b9e310d40",
   "metadata": {},
   "outputs": [
    {
     "name": "stdin",
     "output_type": "stream",
     "text": [
      "please enter a five-digit integer:  12345\n"
     ]
    },
    {
     "name": "stdout",
     "output_type": "stream",
     "text": [
      "1     2     3     4     5\n"
     ]
    }
   ],
   "source": [
    "number = int(input('please enter a five-digit integer: '))\n",
    "\n",
    "number1 = number%10\n",
    "number2 = int(number/10)%10\n",
    "number3 = int(number/100)%10\n",
    "number4 = int(number/1000)%10\n",
    "number5 = int(number/10000)%10\n",
    "\n",
    "print(number5,'   ',number4,'   ',number3,'   ',number2,'   ',number1)\n",
    "\n",
    "\n",
    "\n"
   ]
  }
 ],
 "metadata": {
  "kernelspec": {
   "display_name": "Python 3 (ipykernel)",
   "language": "python",
   "name": "python3"
  },
  "language_info": {
   "codemirror_mode": {
    "name": "ipython",
    "version": 3
   },
   "file_extension": ".py",
   "mimetype": "text/x-python",
   "name": "python",
   "nbconvert_exporter": "python",
   "pygments_lexer": "ipython3",
   "version": "3.9.7"
  }
 },
 "nbformat": 4,
 "nbformat_minor": 5
}
